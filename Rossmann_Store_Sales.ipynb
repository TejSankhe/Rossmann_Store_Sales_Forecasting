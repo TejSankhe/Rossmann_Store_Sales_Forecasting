{
 "cells": [
  {
   "cell_type": "markdown",
   "metadata": {
    "_uuid": "a7f29af3e838afdccea567845cc5e63b78f2d020"
   },
   "source": [
    "# Rossmann Store Sales: Forecast sales using store, promotions and its competitors information\n",
    "![](https://www.magnapolonia.org/wp-content/uploads/2017/08/rossmann.jpg)"
   ]
  },
  {
   "cell_type": "markdown",
   "metadata": {
    "_uuid": "0d5ceb3e9078300efdb665b2aef257d5824d930b"
   },
   "source": [
    "## Importing required libraries "
   ]
  },
  {
   "cell_type": "code",
   "execution_count": null,
   "metadata": {
    "_uuid": "bfbc210a3dbcc69f6b16e829e5fb2643fb66b694"
   },
   "outputs": [],
   "source": [
    "import pandas as pd\n",
    "import matplotlib.pyplot as plt\n",
    "import statsmodels.api as sm\n",
    "import statsmodels as stats\n",
    "import numpy as np\n",
    "import seaborn as sns\n",
    "from sklearn import linear_model\n",
    "from sklearn.model_selection import cross_val_score\n",
    "from sklearn.metrics import mean_squared_error, make_scorer\n",
    "from statsmodels.formula.api import ols\n",
    "from sklearn.linear_model import LinearRegression"
   ]
  },
  {
   "cell_type": "markdown",
   "metadata": {
    "_uuid": "519dfe35c35a43d065b08991828ab8fc5d31d38f"
   },
   "source": [
    "## Loading the data"
   ]
  },
  {
   "cell_type": "code",
   "execution_count": null,
   "metadata": {
    "_cell_guid": "b1076dfc-b9ad-4769-8c92-a6c4dae69d19",
    "_uuid": "8f2839f25d086af736a60e9eeb907d3b93b6e0e5",
    "scrolled": false
   },
   "outputs": [],
   "source": [
    "store = pd.read_csv(\"store.csv\", index_col  = 'Store')\n",
    "train = pd.read_csv(\"train.csv\", index_col  = 'Store')\n",
    "store.info()\n",
    "train.info()\n",
    "train.head(5)"
   ]
  },
  {
   "cell_type": "markdown",
   "metadata": {
    "_uuid": "91c0119ad3a54ceed2ce6d01c318098e1ad6d36c"
   },
   "source": [
    "## Joining two dataset"
   ]
  },
  {
   "cell_type": "code",
   "execution_count": null,
   "metadata": {
    "_uuid": "67d1984861c1b158bbc311481cb55181e6f016eb"
   },
   "outputs": [],
   "source": [
    "train_store_joined = train.join(store)"
   ]
  },
  {
   "cell_type": "markdown",
   "metadata": {
    "_uuid": "23d93e6229f6a7c4973ae27bf430e71968910684"
   },
   "source": [
    "## Cleaning dataset"
   ]
  },
  {
   "cell_type": "code",
   "execution_count": null,
   "metadata": {
    "_uuid": "84c8b1d463c603c045c33d7ba6c638806a30fcf4"
   },
   "outputs": [],
   "source": [
    "# replacing null values with 0\n",
    "cleaned_data=train_store_joined.fillna(0)"
   ]
  },
  {
   "cell_type": "markdown",
   "metadata": {
    "_uuid": "5cbe8e74007a7685e8d293f79d78f4b2dc398ea2"
   },
   "source": [
    "## Exploratory data analysis"
   ]
  },
  {
   "cell_type": "code",
   "execution_count": null,
   "metadata": {
    "_uuid": "5e7850f94f20d6d0277edd8927c50d62412fa743",
    "scrolled": true
   },
   "outputs": [],
   "source": [
    "cleaned_data.head(5)"
   ]
  },
  {
   "cell_type": "code",
   "execution_count": null,
   "metadata": {
    "_uuid": "371115628b5b09140bdb7d116db042ec657ce73f"
   },
   "outputs": [],
   "source": [
    "cleaned_data.describe()"
   ]
  },
  {
   "cell_type": "code",
   "execution_count": null,
   "metadata": {
    "_uuid": "6f393d30b4595c679c0e020ca83e9c1722c9c5c0"
   },
   "outputs": [],
   "source": [
    "# checking linearity beetween customers visiting store vs sales\n",
    "plt.scatter(cleaned_data['Customers'],cleaned_data['Sales'])\n",
    "plt.grid(True)\n",
    "plt.title('Customers Vs Sales', fontsize=14)\n",
    "plt.xlabel('Customers', fontsize=14)\n",
    "plt.ylabel('Sales', fontsize=14)\n",
    "plt.show()"
   ]
  },
  {
   "cell_type": "code",
   "execution_count": null,
   "metadata": {
    "_uuid": "61b54774c36764b015f4679f6914cf640653e87a"
   },
   "outputs": [],
   "source": [
    "# The relationship between a store type and its respective assortment type\n",
    "StoretypeXAssortment = sns.countplot(x=\"StoreType\",hue=\"Assortment\",order=[\"a\",\"b\",\"c\",\"d\"],\n",
    "                                     data=cleaned_data,palette=sns.color_palette(\"Set2\", n_colors=3)).set_title(\"Number of Different Assortments per Store Type\")"
   ]
  },
  {
   "cell_type": "code",
   "execution_count": null,
   "metadata": {
    "_uuid": "0d03e6a0f75fc90b8d4381360641940c3f1fee5d"
   },
   "outputs": [],
   "source": [
    "# when are the stores open during the week?\n",
    "ax = sns.countplot(x='Open', hue='DayOfWeek', data=cleaned_data, palette='Set1')"
   ]
  },
  {
   "cell_type": "markdown",
   "metadata": {
    "_uuid": "e1498c071c6e578b0d52dc0c76866572c67c7bfc"
   },
   "source": [
    "## Creating dummy variables"
   ]
  },
  {
   "cell_type": "code",
   "execution_count": null,
   "metadata": {
    "_uuid": "d4bc2393ec8cbbefcabe67e69995f428267c9112",
    "scrolled": false
   },
   "outputs": [],
   "source": [
    "cleaned_data['StateHoliday'] = cleaned_data.StateHoliday.replace('0', 0)\n",
    "cleaned_data = pd.get_dummies(cleaned_data, columns=['StateHoliday','StoreType','Assortment'], drop_first=True)\n",
    "cleaned_data.info()\n",
    "cleaned_data.head(5)"
   ]
  },
  {
   "cell_type": "markdown",
   "metadata": {
    "_uuid": "8470fb29543b44a71d64b488bf631d632726ecb9"
   },
   "source": [
    "## Linear Assumptions"
   ]
  },
  {
   "cell_type": "code",
   "execution_count": null,
   "metadata": {
    "_uuid": "90e41398edb7118793d06c3296bf64ccbe081e78"
   },
   "outputs": [],
   "source": [
    "stats.graphics.gofplots.qqplot(cleaned_data['Promo'], line='r')\n",
    "stats.graphics.gofplots.qqplot(cleaned_data['Customers'], line='r')\n",
    "stats.graphics.gofplots.qqplot(cleaned_data['Promo2SinceYear'], line='r')\n"
   ]
  },
  {
   "cell_type": "markdown",
   "metadata": {
    "_uuid": "96f04bba145557e4ab5d8cdd1b3a8afc63037da2"
   },
   "source": [
    "### Checking Multi-colinearity "
   ]
  },
  {
   "cell_type": "code",
   "execution_count": null,
   "metadata": {
    "_uuid": "2139719e9664799fc4526bec3cca26e8a39967a6",
    "scrolled": false
   },
   "outputs": [],
   "source": [
    "features = ['Customers','Open','Promo','SchoolHoliday','CompetitionDistance',\n",
    "            'CompetitionOpenSinceMonth','CompetitionOpenSinceYear',\n",
    "            'Promo2','Promo2SinceWeek','Promo2SinceYear','StateHoliday_a','StateHoliday_b',\n",
    "            'StateHoliday_c','StoreType_b','StoreType_c','StoreType_d','Assortment_b','Assortment_c','Sales']\n",
    "\n",
    "mask = np.zeros_like(cleaned_data[features].corr(), dtype=np.bool) \n",
    "mask[np.triu_indices_from(mask)] = True \n",
    "\n",
    "f, ax = plt.subplots(figsize=(16, 12))\n",
    "plt.title('Pearson Correlation Matrix',fontsize=25) \n",
    "\n",
    "sns.heatmap(cleaned_data[features].corr(),linewidths=0.25,vmax=1.0,square=True,cmap=\"YlGnBu\", \n",
    "            linecolor='w',annot=True,mask=mask,cbar_kws={\"shrink\": .75})"
   ]
  },
  {
   "cell_type": "markdown",
   "metadata": {
    "_uuid": "b1718453f631b093691f6ba5eea71d845a24235f"
   },
   "source": [
    "## Building models"
   ]
  },
  {
   "cell_type": "code",
   "execution_count": null,
   "metadata": {
    "_uuid": "0aba1a4ec6c51c0232a679161223480dfcebb281"
   },
   "outputs": [],
   "source": [
    "# defining generic fuctions used for building and evaluating model\n",
    "def calculate_cv_error(X,Y):\n",
    "    \"\"\"\n",
    "    Calculates cross validation error of model\n",
    "    :param X: independent variables i.e predictors contributing model\n",
    "    :param Y: dependent variable i.e target in model\n",
    "    :return: float value returns mean squared error\n",
    "    \"\"\"\n",
    "    regr = linear_model.LinearRegression()\n",
    "    ms_errors= cross_val_score(regr, X, Y, cv=5, scoring = make_scorer(mean_squared_error))\n",
    "    rms_errors = np.sqrt(ms_errors)\n",
    "    mean_rms_error = rms_errors.mean()/1000\n",
    "    return mean_rms_error\n",
    "\n",
    "def build_OLS_model(features,Y):\n",
    "    \"\"\"\n",
    "    Build OLS linear regression model\n",
    "    :param features: independent variables i.e predictors needs to be included while building model\n",
    "    :param Y: dependent variable i.e target in model\n",
    "    :return: Linear regression model\n",
    "    \"\"\"\n",
    "    X = cleaned_data[features]\n",
    "    X = sm.add_constant(X)\n",
    "    model = sm.OLS(Y, X)\n",
    "    return model"
   ]
  },
  {
   "cell_type": "code",
   "execution_count": null,
   "metadata": {
    "_uuid": "f4fd7cca724ca776c81a43bdaa17467d6fcc1b9b",
    "scrolled": false
   },
   "outputs": [],
   "source": [
    "# building model1\n",
    "features = ['Customers','Open','Promo','SchoolHoliday','CompetitionDistance',\n",
    "            'CompetitionOpenSinceMonth','CompetitionOpenSinceYear',\n",
    "            'Promo2','Promo2SinceWeek','Promo2SinceYear','StateHoliday_a','StateHoliday_b',\n",
    "            'StateHoliday_c','StoreType_b','StoreType_c','StoreType_d','Assortment_b','Assortment_c']\n",
    "X = np.array(cleaned_data[features], dtype=pd.Series)\n",
    "Y = np.array(cleaned_data['Sales'], dtype=pd.Series)\n",
    "print(\"Cross Validation Error: \"+str(calculate_cv_error(X,Y)))\n",
    "Y = cleaned_data['Sales']\n",
    "model1 = build_OLS_model(features,Y)\n",
    "results1 = model1.fit()\n",
    "results1.summary()"
   ]
  },
  {
   "cell_type": "code",
   "execution_count": null,
   "metadata": {
    "_uuid": "16fec19e6bc2fb0b1629c05b45e0117749f0e5ca",
    "scrolled": false
   },
   "outputs": [],
   "source": [
    "# building model2\n",
    "# As CompetitionOpenSinceYear and CompetitionOpenSinceMonth are strongly correlated removing CompetitionOpenSinceMonth\n",
    "# As Promo2SinceWeek and Promo2SinceYear are strongly correlated removing Promo2SinceYear\n",
    "# As Promo2 and Promo2SinceWeek are strongly correlated removing Promo2\n",
    "features = ['Customers','Open','Promo','SchoolHoliday','CompetitionDistance',\n",
    "            'CompetitionOpenSinceYear',\n",
    "            'Promo2SinceWeek','StateHoliday_a','StateHoliday_b',\n",
    "            'StateHoliday_c','StoreType_b','StoreType_c','StoreType_d','Assortment_b','Assortment_c']\n",
    "X = np.array(cleaned_data[features], dtype=pd.Series)\n",
    "Y = np.array(cleaned_data['Sales'], dtype=pd.Series)\n",
    "print(\"Cross Validation Error: \"+str(calculate_cv_error(X,Y)))\n",
    "Y = cleaned_data['Sales']\n",
    "model2 = build_OLS_model(features,Y)\n",
    "results2 = model2.fit()\n",
    "results2.summary()"
   ]
  },
  {
   "cell_type": "code",
   "execution_count": null,
   "metadata": {
    "_uuid": "12aff9ebcb6b7529352f025975c9180607939560"
   },
   "outputs": [],
   "source": [
    "# building model3\n",
    "# As Open and StateHoliday are strongly correlated removing StateHoliday\n",
    "features = ['Customers','Open','Promo','CompetitionDistance',\n",
    "            'CompetitionOpenSinceYear',\n",
    "            'Promo2SinceWeek','StoreType_b','StoreType_c','StoreType_d','Assortment_b','Assortment_c']\n",
    "X = np.array(cleaned_data[features], dtype=pd.Series)\n",
    "X = sm.add_constant(X)\n",
    "Y = np.array(cleaned_data['Sales'], dtype=pd.Series)\n",
    "print(\"Cross Validation Error: \"+str(calculate_cv_error(X,Y)))\n",
    "Y = cleaned_data['Sales']\n",
    "model3 = build_OLS_model(features,Y)\n",
    "results3 = model3.fit()\n",
    "results3.summary()"
   ]
  },
  {
   "cell_type": "markdown",
   "metadata": {
    "_uuid": "e64860ecd53a4df03744699b8c37e1626e02fdd5"
   },
   "source": [
    "### Adding interaction term"
   ]
  },
  {
   "cell_type": "code",
   "execution_count": null,
   "metadata": {
    "_uuid": "7ed47dbbcca973a41017619bbded257a2138aeaf"
   },
   "outputs": [],
   "source": [
    "# building model4\n",
    "# After removing StateHoliday correlation term error increases so let go ahead with model2 predictores and add interaction term in it.\n",
    "cleaned_data[\"Promo2SinceWeek*Promo\"]=cleaned_data['Promo2SinceWeek']*cleaned_data['Promo']\n",
    "cleaned_data[\"CompetitionDistance*CompetitionOpenSinceYear\"]=cleaned_data['CompetitionDistance']*cleaned_data['CompetitionOpenSinceYear']\n",
    "cleaned_data[\"inf\"]=cleaned_data['Promo2SinceWeek']*cleaned_data['Promo']\n",
    "features = ['Customers','Open','Promo','SchoolHoliday','CompetitionDistance',\"CompetitionDistance*CompetitionOpenSinceYear\",\n",
    "            'CompetitionOpenSinceYear',\"Promo2SinceWeek*Promo\",\n",
    "            'Promo2SinceWeek','StateHoliday_a','StateHoliday_b',\n",
    "            'StateHoliday_c','StoreType_b','StoreType_c','StoreType_d','Assortment_b','Assortment_c']\n",
    "X = np.array(cleaned_data[features], dtype=pd.Series)\n",
    "Y = np.array(cleaned_data['Sales'], dtype=pd.Series)\n",
    "print(\"Cross Validation Error: \"+str(calculate_cv_error(X,Y)))\n",
    "Y = cleaned_data['Sales']\n",
    "model4 = build_OLS_model(features,Y)\n",
    "results4 = model4.fit()\n",
    "results4.summary()"
   ]
  },
  {
   "cell_type": "markdown",
   "metadata": {
    "_uuid": "826fdc01c80aebc92c1418784aa506c1de227b36"
   },
   "source": [
    "## By seeing Z score and p value of intercation terms we can say that they are strongly contributing the model and so model4 is the model we can go ahead with prediction."
   ]
  },
  {
   "cell_type": "markdown",
   "metadata": {
    "_uuid": "30476ce6c3b2265ea3950f7b9e0405706959163f"
   },
   "source": [
    "# Part A - Classification with Trees."
   ]
  },
  {
   "cell_type": "markdown",
   "metadata": {
    "_uuid": "f3ef0dda5ac1b1e55060a580b475abcd3f1e05a2"
   },
   "source": [
    "### Bagging based tree algorithm (e.g. Random Forest)"
   ]
  },
  {
   "cell_type": "markdown",
   "metadata": {
    "_uuid": "8a7f6892de1acaa7bbe0370eafe7b9cee8b12eb8"
   },
   "source": [
    "Random forests is a supervised learning algorithm. It can be used both for classification and regression. It is also the most flexible and easy to use algorithm. A forest is comprised of trees. It is said that the more trees it has, the more robust a forest is. Random forests creates decision trees on randomly selected data samples, gets prediction from each tree and selects the best solution by means of voting. It also provides a pretty good indicator of the feature importance.\n",
    "![](http://res.cloudinary.com/dyd911kmh/image/upload/f_auto,q_auto:best/v1526467744/voting_dnjweq.jpg)"
   ]
  },
  {
   "cell_type": "markdown",
   "metadata": {
    "_uuid": "2e1a38d808179c208d436b55997d87718bff251d"
   },
   "source": [
    "Hyper Parameters of Random Forest\n",
    "- n_estimators = number of trees in the foreset\n",
    "- max_features = max number of features considered for splitting a node\n",
    "- max_depth = max number of levels in each decision tree\n",
    "- min_samples_split = min number of data points placed in a node before the node is split\n",
    "- min_samples_leaf = min number of data points allowed in a leaf node\n",
    "- bootstrap = method for sampling data points (with or without replacement)"
   ]
  },
  {
   "cell_type": "code",
   "execution_count": null,
   "metadata": {
    "_uuid": "4fa7cf53c516ba9f8b72cefb6d8447b70204fe9d",
    "scrolled": false
   },
   "outputs": [],
   "source": [
    "features = ['Sales','Customers','Open','Promo','SchoolHoliday','CompetitionDistance',\"CompetitionDistance*CompetitionOpenSinceYear\",\n",
    "            'CompetitionOpenSinceYear',\"Promo2SinceWeek*Promo\",\n",
    "            'Promo2SinceWeek','StateHoliday_a','StateHoliday_b',\n",
    "            'StateHoliday_c','StoreType_b','StoreType_c','StoreType_d','Assortment_b','Assortment_c']\n",
    "\n",
    "dataSet=cleaned_data[features]"
   ]
  },
  {
   "cell_type": "code",
   "execution_count": null,
   "metadata": {
    "_uuid": "86e1dd56f8b288be8d215990050e21f68f6d0849"
   },
   "outputs": [],
   "source": [
    "sales_mean= np.mean(dataSet['Sales'])"
   ]
  },
  {
   "cell_type": "code",
   "execution_count": null,
   "metadata": {
    "_uuid": "7062bc10e6ecfd9aa6132415aea3bde36eb013f3"
   },
   "outputs": [],
   "source": [
    "##Changing data into categorical by assigning value of sales above mean as 1 and below mean as 0\n",
    "dat_classification= dataSet\n",
    "dat_classification.loc[ dat_classification['Sales'] <= sales_mean, 'Sales'] = 0\n",
    "dat_classification.loc[ dat_classification['Sales'] > sales_mean, 'Sales'] = 1"
   ]
  },
  {
   "cell_type": "code",
   "execution_count": null,
   "metadata": {
    "_uuid": "e567836b9ceaf92553a308d648b1fb03b7fea430"
   },
   "outputs": [],
   "source": [
    "dat_classificationY= dat_classification['Sales']\n",
    "dat_classificationX= dat_classification.drop(['Sales'],axis=1)"
   ]
  },
  {
   "cell_type": "code",
   "execution_count": null,
   "metadata": {
    "_uuid": "5cbaaf91f4b04c61bbce5a3452787bc808caac94"
   },
   "outputs": [],
   "source": [
    "## Splitting the data\n",
    "from sklearn.model_selection import train_test_split\n",
    "X_train, X_test, y_train, y_test = train_test_split(dat_classificationX, dat_classificationY, test_size = 0.2,random_state=0)"
   ]
  },
  {
   "cell_type": "code",
   "execution_count": null,
   "metadata": {
    "_uuid": "09c376a531eafcccdc85ab150d9b4983a420a34a"
   },
   "outputs": [],
   "source": [
    "from sklearn.ensemble import RandomForestClassifier  \n",
    "randomForestCLassifier = RandomForestClassifier()  \n",
    "randomForestCLassifier.fit(X_train, y_train) "
   ]
  },
  {
   "cell_type": "code",
   "execution_count": null,
   "metadata": {
    "_uuid": "fec9a3af0f0a6013077c161cf1544f9b1ef1ff73"
   },
   "outputs": [],
   "source": [
    "y_pred = randomForestCLassifier.predict(X_test) "
   ]
  },
  {
   "cell_type": "markdown",
   "metadata": {
    "_uuid": "042fed6b8d9582b42f6bfe5f13bc0712f7f24fcd"
   },
   "source": [
    "## Evaluating Criteria"
   ]
  },
  {
   "attachments": {
    "image.png": {
     "image/png": "[encoded data removed]"
    }
   },
   "cell_type": "markdown",
   "metadata": {
    "_uuid": "1a1ab318477b28263b696d2af3f0ed491bc0cf99"
   },
   "source": [
    "***Confusion matrix ***\n",
    "\n",
    "It is a performance measurement for machine learning classification problem where output can be two or more classes. It is a table with 4 different combinations of predicted and actual values. gives us a matrix as output and describes the complete performance of the model. \n",
    "**Accuracy**: Overall, how often is the classifier correct? \n",
    "\n",
    "(TP+TN)/total \n",
    "\n",
    "**Misclassification** Rate: Overall, how often is it wrong? \n",
    "\n",
    "(FP+FN)/total  \n",
    "\n",
    "equivalent to 1 minus Accuracy also known as \"Error Rate\" \n",
    "\n",
    "True Positive Rate: When it's actually yes, how often does it predict yes? \n",
    "\n",
    "TP/TP+ FN   also known as \"Sensitivity\" or \"Recall\" \n",
    "\n",
    "False Positive Rate: When it's actually no, how often does it predict yes? \n",
    "\n",
    "FP/TN+ FP  \n",
    "\n",
    " \n",
    "**\n",
    "Area Under Curve **\n",
    "\n",
    "Area Under Curve(AUC) is one of the most widely used metrics for evaluation. It is used for binary classification problem. AUC of a classifier is equal to the probability that the classifier will rank a randomly chosen positive example higher than a randomly chosen negative example. Before defining AUC, let us understand two basic terms : \n",
    "\n",
    "True Positive Rate (Sensitivity) : True Positive Rate is defined as TP/ (FN+TP). True Positive Rate corresponds to the proportion of positive data points that are correctly considered as positive, with respect to all positive data points. \n",
    "\n",
    " \n",
    "\n",
    "False Positive Rate (Specificity) : False Positive Rate is defined as FP / (FP+TN). False Positive Rate corresponds to the proportion of negative data points that are mistakenly considered as positive, with respect to all negative data points. \n",
    "\n",
    " \n",
    "\n",
    "False Positive Rate and True Positive Rate both have values in the range [0, 1].. AUC is the area under the curve of plot False Positive Rate vs True Positive Rate at different points in [0, 1]. \n",
    "\n",
    "Area under ROC curve is often used as a measure of quality of the classification models. A random classifier has an area under the curve of 0.5, while AUC for a perfect classifier is equal to 1. In practice, most of the classification models have an AUC between 0.5 and 1 \n",
    "\n",
    " ![image.png](attachment:image.png)\n",
    "\n",
    "As evident, AUC has a range of [0, 1]. The greater the value, the better is the performance of our model. \n",
    "\n",
    " \n",
    "\n",
    "When a classifier cannot distinguish between the two groups, the area will be equal to 0.5 (the ROC curve will coincide with the diagonal). When there is a perfect separation of the two groups, i.e., no overlapping of the distributions, the area under the ROC curve reaches to 1 (the ROC curve will reach the upper left corner of the pl \n",
    "\n"
   ]
  },
  {
   "cell_type": "code",
   "execution_count": null,
   "metadata": {
    "_uuid": "361709b89febd9a516a095cfc6fb169eb9fbee0d"
   },
   "outputs": [],
   "source": [
    "def classification_Parameters(y_test, y_pred):\n",
    "    from sklearn.metrics import confusion_matrix \n",
    "    from sklearn.metrics import accuracy_score \n",
    "    from sklearn.metrics import classification_report \n",
    "    results = confusion_matrix(y_test, y_pred) \n",
    "    print (\"Confusion Matrix :\")\n",
    "    print(results) \n",
    "    print ('Accuracy Score :',accuracy_score(y_test, y_pred))\n",
    "    print ('Report : ')\n",
    "    print (classification_report(y_test, y_pred)) "
   ]
  },
  {
   "cell_type": "code",
   "execution_count": null,
   "metadata": {
    "_uuid": "1d8863bcc05cf2d551cdad26b4976a69fcae0f6f"
   },
   "outputs": [],
   "source": [
    "classification_Parameters(y_test, y_pred)"
   ]
  },
  {
   "cell_type": "code",
   "execution_count": null,
   "metadata": {
    "_uuid": "6008fef9596a7247a4b8c5590e8e43a54e524334"
   },
   "outputs": [],
   "source": [
    "from sklearn.metrics import roc_auc_score\n",
    "from sklearn.metrics import roc_curve\n",
    "\n",
    "def RocCurve(model):\n",
    "    logit_roc_auc = roc_auc_score(y_test, model.predict(X_test))\n",
    "    fpr, tpr, thresholds = roc_curve(y_test, model.predict_proba(X_test)[:,1])\n",
    "    plt.figure()\n",
    "    plt.plot(fpr, tpr, label='Logistic Regression (area = %0.2f)' % logit_roc_auc)\n",
    "    plt.plot([0, 1], [0, 1],'r--')\n",
    "    plt.xlim([0.0, 1.0])\n",
    "    plt.ylim([0.0, 1.05])\n",
    "    plt.xlabel('False Positive Rate')\n",
    "    plt.ylabel('True Positive Rate')\n",
    "    plt.title('Receiver operating characteristic')\n",
    "    plt.legend(loc=\"lower right\")\n",
    "    plt.savefig('Log_ROC')\n",
    "    plt.show()"
   ]
  },
  {
   "cell_type": "code",
   "execution_count": null,
   "metadata": {
    "_uuid": "d6b98467c0c81ea5afa356ce94680201c75da576"
   },
   "outputs": [],
   "source": [
    "RocCurve(randomForestCLassifier)"
   ]
  },
  {
   "cell_type": "markdown",
   "metadata": {
    "_uuid": "cdc9a350d7fbf8b011dea890364828e40c9215e7"
   },
   "source": [
    "### Hyper parameter Tuning of Random Forest"
   ]
  },
  {
   "cell_type": "code",
   "execution_count": null,
   "metadata": {
    "_uuid": "755c9097dc64ed65c4bc513d2cf9f4c3a1cec525",
    "scrolled": true
   },
   "outputs": [],
   "source": [
    "from sklearn.model_selection import RandomizedSearchCV\n",
    "from pprint import pprint\n",
    "#Let us see what default parameters our model used\n",
    "print('Default Parameters of :\\n')\n",
    "pprint(randomForestCLassifier.get_params())"
   ]
  },
  {
   "cell_type": "code",
   "execution_count": null,
   "metadata": {
    "_uuid": "8f4ac3e88f6f38e69d7df2b0330a516b616ccfac"
   },
   "outputs": [],
   "source": [
    "from sklearn.model_selection import GridSearchCV\n",
    "param_grid = {\n",
    "    'bootstrap': [True],\n",
    "    'max_depth': [70, 100],\n",
    "    'max_features': [3, 5],\n",
    "    'min_samples_leaf': [2, 4],\n",
    "    'min_samples_split': [7, 10],\n",
    "    'n_estimators': [200, 400]\n",
    "}\n",
    "# Create a based model\n",
    "rf = RandomForestClassifier()\n",
    "# Instantiate the grid search model\n",
    "grid_search = GridSearchCV(estimator = rf, param_grid = param_grid, \n",
    "                          cv = 3, n_jobs = -1, verbose = 2)"
   ]
  },
  {
   "cell_type": "code",
   "execution_count": null,
   "metadata": {
    "_uuid": "91b2706a1b353b692bbfa889ea11728823dce847",
    "scrolled": false
   },
   "outputs": [],
   "source": [
    "#Fit the grid search to the data\n",
    "grid_search.fit(X_train, y_train)\n",
    "grid_search.best_params_"
   ]
  },
  {
   "cell_type": "code",
   "execution_count": null,
   "metadata": {
    "_uuid": "24b8de78bfe92124ef0e740e47f91293a95cdc09"
   },
   "outputs": [],
   "source": [
    "optimizedRandom=RandomForestClassifier(n_estimators=200,max_depth=100, min_samples_split=10, min_samples_leaf=4, max_features=5,bootstrap=True)\n",
    "optimizedRandom.fit(X_train,y_train)\n",
    "y_pred = optimizedRandom.predict(X_test)  \n",
    "classification_Parameters(y_test, y_pred)"
   ]
  },
  {
   "cell_type": "code",
   "execution_count": null,
   "metadata": {
    "_uuid": "d19f647394435ba8b7b64f4e218c9d675dcfa202"
   },
   "outputs": [],
   "source": [
    "RocCurve(optimizedRandom)"
   ]
  },
  {
   "cell_type": "markdown",
   "metadata": {
    "_uuid": "96e85fc8f474ac597513faa2ec0a36b24a493e81"
   },
   "source": [
    "## Boosting based tree algorithm"
   ]
  },
  {
   "cell_type": "markdown",
   "metadata": {
    "_uuid": "c76bc66b4ffc4ea3a28624d8dfb9a3d5ee713528"
   },
   "source": [
    "Gradient boosting is one of the most powerful techniques for building predictive models.\n",
    "How Gradient Boosting Works\n",
    "**Gradient boosting involves three elements:**\n",
    "- A loss function to be optimized.\n",
    "- A weak learner to make predictions.\n",
    "- An additive model to add weak learners to minimize the loss function.\n",
    "\n",
    "Gradient Boosting gets its name from Gradient Descent. Given the predetermined loss function, Gradient Descent is utilized to find the parameters which minimize this loss function. Initially, gradient descent uses some parameters to looks at each point along the loss function, and find the negative derivative of that point. As gradient descent continues along the loss function, it continuously tunes the parameters until the minimum point is found. The goal is to find the optimal parameters which have the biggest decrease on the loss function. This is how Gradient Boosting attempts to minimize error. By sequentially minimizing our loss function (meaning we are sequentially minimizing the amount of error with each weak learner), our model gets stronger and stronger until a final predictor is found.\n",
    "\n",
    "**XGBoosting**\n",
    "In the realm of data science, machine learning algorithms, and model building, the ultimate goal is to build the strongest predictive model while accounting for computational efficiency as well. This is where XGBoosting comes into play. XGBoost (eXtreme Gradient Boosting) is a direct application of Gradient Boosting for decision trees. There are a myriad of resources that dive into the mathematical backing and systematic functions of XGBoost, but the main advantages are as follows:\n",
    "\n",
    "1. Easy to use\n",
    "2. Computational efficiency\n",
    "3. Model Accuracy\n",
    "4. Feasibility — easy to tune parameters and modify objectives."
   ]
  },
  {
   "cell_type": "markdown",
   "metadata": {
    "_uuid": "ae3de78869f923687c06e9c98dcc1fd94d2ca9fd"
   },
   "source": [
    "#### Implementation of XGboost"
   ]
  },
  {
   "cell_type": "code",
   "execution_count": null,
   "metadata": {
    "_uuid": "ec08460b7b9d2d79f65c48b66939b3ab176d0713"
   },
   "outputs": [],
   "source": [
    "from xgboost import XGBClassifier\n"
   ]
  },
  {
   "cell_type": "code",
   "execution_count": null,
   "metadata": {
    "_uuid": "630dd284a056a0a70ba9b2e7a2c38e051153cb68"
   },
   "outputs": [],
   "source": [
    "boostClassModel= XGBClassifier()\n",
    "boostClassModel.fit(X_train, y_train)"
   ]
  },
  {
   "cell_type": "code",
   "execution_count": null,
   "metadata": {
    "_uuid": "4a540ae1348d574505ddbf98813c00728381d067"
   },
   "outputs": [],
   "source": [
    "y_pred = boostClassModel.predict(X_test) \n",
    "classification_Parameters(y_test, y_pred)"
   ]
  },
  {
   "cell_type": "code",
   "execution_count": null,
   "metadata": {
    "_uuid": "fdec2afe4bdb2bdd67c1002df74aa492301be15f"
   },
   "outputs": [],
   "source": [
    "RocCurve(boostClassModel)"
   ]
  },
  {
   "cell_type": "markdown",
   "metadata": {
    "_uuid": "50d0bfcdcc2a62c409994bcefd3a0fe6788e96f4"
   },
   "source": [
    "### Hyper Parameters tuning of XGB classifier\n",
    "\n",
    "Parameters of XGB Classifier\n",
    "\n",
    "**[Tuning Parameters](https://www.analyticsvidhya.com/blog/2016/03/complete-guide-parameter-tuning-xgboost-with-codes-python/)**\n",
    "\n",
    "General Approach for Parameter Tuning\n",
    "We will use an approach similar to that of GBM here. The various steps to be performed are:\n",
    "\n",
    "1. Choose a relatively high learning rate. Generally a learning rate of 0.1 works but somewhere between 0.05 to 0.3 should work for different problems. Determine the optimum number of trees for this learning rate. XGBoost has a very useful function called as “cv” which performs cross-validation at each boosting iteration and thus returns the optimum number of trees required.\n",
    "2. Tune tree-specific parameters ( max_depth, min_child_weight, gamma, subsample, colsample_bytree) for decided learning rate and number of trees. Note that we can choose different parameters to define a tree and I’ll take up an example here.\n",
    "3.Tune regularization parameters (lambda, alpha) for xgboost which can help reduce model complexity and enhance performance.\n",
    "4. Lower the learning rate and decide the optimal parameters ."
   ]
  },
  {
   "cell_type": "code",
   "execution_count": null,
   "metadata": {
    "_uuid": "8f8181de1c3c82c50e92b4462c1ec86df54c8c8b"
   },
   "outputs": [],
   "source": [
    "#Check Default parameters\n",
    "boostClassModel.get_params"
   ]
  },
  {
   "cell_type": "code",
   "execution_count": null,
   "metadata": {
    "_uuid": "dc4169175cf8d6d1e259b964ae06665dafe53975"
   },
   "outputs": [],
   "source": [
    "learning_rates = [0.5, 0.75, 1]\n",
    "n_estimators=[20,30,40]\n",
    "max_depths=[2,3,4]\n",
    "max_features=[2,3,4]\n",
    "for i in range(3):\n",
    "    xgb = XGBClassifier(n_estimators=n_estimators[i], learning_rate = learning_rates[i], max_features=max_features[i], max_depth = max_depths[i], random_state = 0)\n",
    "    xgb.fit(X_train, y_train)\n",
    "    print(\"Accuracy score (training): {0:.3f}\".format(xgb.score(X_train, y_train)))\n",
    "    print(\"Accuracy score (validation): {0:.3f}\".format(xgb.score(X_test, y_test)))\n",
    "    print()"
   ]
  },
  {
   "cell_type": "code",
   "execution_count": null,
   "metadata": {
    "_uuid": "177d942fa98d5f2fecf783f66b16ca4fad3ac52a"
   },
   "outputs": [],
   "source": [
    "#So best is \n",
    "#learning_rates = 1\n",
    "#n_estimators=40\n",
    "#max_depths=4\n",
    "#max_features=4\n",
    "xgb_optimized = XGBClassifier(n_estimators=40, learning_rate = 1, max_features=4, max_depth = 4, random_state = 0)\n",
    "xgb_optimized.fit(X_train,y_train)"
   ]
  },
  {
   "cell_type": "code",
   "execution_count": null,
   "metadata": {
    "_uuid": "eb966255d7e68aa3c84439ac4363ed4f748ff43f"
   },
   "outputs": [],
   "source": [
    "y_pred = xgb_optimized.predict(X_test)  \n",
    "classification_Parameters(y_test, y_pred)"
   ]
  },
  {
   "cell_type": "code",
   "execution_count": null,
   "metadata": {
    "_uuid": "49850020296bfeff14567bda603cf72e283466ec"
   },
   "outputs": [],
   "source": [
    "RocCurve(xgb_optimized)"
   ]
  },
  {
   "cell_type": "markdown",
   "metadata": {
    "_uuid": "a3f00bfecc6053d960e99f0cd3a5d42fc4db4fea"
   },
   "source": [
    "# Part B - Classification with Logistic Regression\n",
    "Logistic Regression is a Machine Learning classification algorithm that is used to predict the probability of a categorical dependent variable. In logistic regression, the dependent variable is a binary variable that contains data coded as 1 (yes, success, etc.) or 0 (no, failure, etc.). In other words, the logistic regression model predicts P(Y=1) as a function of X.\n",
    "The activation function that is used is known as the sigmoid function. The plot of the sigmoid function looks like\n",
    "![alt](https://cdn-images-1.medium.com/max/1200/1*yKvimZ3MCAX-rwMX2n87nw.png)\n",
    "We can see that the value of the sigmoid function always lies between 0 and 1. The value is exactly 0.5 at X=0. We can use 0.5 as the probability threshold to determine the classes. If the probability is greater than 0.5, we classify it as Class-1(Y=1) or else as Class-0(Y=0)."
   ]
  },
  {
   "cell_type": "code",
   "execution_count": null,
   "metadata": {
    "_uuid": "8530bfb5c4cca760d71a5c1020b5fd3c0498a375"
   },
   "outputs": [],
   "source": [
    "from sklearn.linear_model import LogisticRegression\n",
    "LRclassifier= LogisticRegression()\n",
    "LRclassifier.fit(X_train,y_train)\n",
    "y_pred = LRclassifier.predict(X_test)"
   ]
  },
  {
   "cell_type": "code",
   "execution_count": null,
   "metadata": {
    "_uuid": "a4e6d8ad431778a27609a7e662927ebf1a44e0e3"
   },
   "outputs": [],
   "source": [
    "classification_Parameters(y_test, y_pred)"
   ]
  },
  {
   "cell_type": "code",
   "execution_count": null,
   "metadata": {
    "_uuid": "0ef50c71ef7ad5b573cc82e1baa97a309dc91aaa"
   },
   "outputs": [],
   "source": [
    "RocCurve(LRclassifier)"
   ]
  },
  {
   "cell_type": "markdown",
   "metadata": {
    "_uuid": "b012e357d585ece8c1aa268985f379f00697aa1a"
   },
   "source": [
    "## Comparison of Different Classification Models"
   ]
  },
  {
   "cell_type": "markdown",
   "metadata": {
    "_uuid": "9b6d4094203e588517d421f09f767742fb0bbe37"
   },
   "source": [
    "## AUC for models\n",
    "1. Random Forest:\n",
    "    - AUC: 0.95\n",
    "2. XGBClassifier(Optimized) \n",
    "    - AUC: 0.94\n",
    "3. Logistic regression \n",
    "    - AUC: 0.80\n",
    " \n",
    " So as per evaluation criteria **Random forest** works best for thus classification problem\n",
    "    "
   ]
  },
  {
   "cell_type": "markdown",
   "metadata": {
    "_uuid": "a967172a2174e7f238b34092603dfbe67d16ba2f"
   },
   "source": [
    "# Regression\n",
    "Evaluation Criteria\n",
    "![](https://i.stack.imgur.com/83BUy.png)"
   ]
  },
  {
   "cell_type": "code",
   "execution_count": null,
   "metadata": {
    "_uuid": "0177e363af767c785dc8a7549df5cc8bcdf27827"
   },
   "outputs": [],
   "source": [
    "def regessionEvaluation(y_test, y_pred):  \n",
    "    from sklearn import metrics  \n",
    "    print('Mean Absolute Error:', metrics.mean_absolute_error(y_test, y_pred))  \n",
    "    print('Mean Squared Error:', metrics.mean_squared_error(y_test, y_pred))  \n",
    "    print('Root Mean Squared Error:', np.sqrt(metrics.mean_squared_error(y_test, y_pred)))"
   ]
  },
  {
   "cell_type": "markdown",
   "metadata": {
    "_uuid": "b8662489a026a9dff5aa6db9ec4f19262b83ba42"
   },
   "source": [
    "# Part C - Regression with Trees"
   ]
  },
  {
   "cell_type": "markdown",
   "metadata": {
    "_uuid": "fdd3430e3a95751bb33ec64bae5f821fc4f888d8"
   },
   "source": [
    "A regression tree is built through a process known as binary recursive partitioning, which is an iterative process that splits the data into partitions or branches, and then continues splitting each partition into smaller groups as the method moves up each branch.\n",
    "\n",
    "Initially, all records in the Training Set (pre-classified records that are used to determine the structure of the tree) are grouped into the same partition. The algorithm then begins allocating the data into the first two partitions or branches, using every possible binary split on every field. The algorithm selects the split that minimizes the sum of the squared deviations from the mean in the two separate partitions. This splitting rule is then applied to each of the new branches. This process continues until each node reaches a user-specified minimum node size and becomes a terminal node. (If the sum of squared deviations from the mean in a node is zero, then that node is considered a terminal node even if it has not reached the minimum size.)"
   ]
  },
  {
   "cell_type": "code",
   "execution_count": null,
   "metadata": {
    "_uuid": "f646352706e20d18f6fda99fd121ba13e1c99874"
   },
   "outputs": [],
   "source": [
    "data_regression=dataSet"
   ]
  },
  {
   "cell_type": "code",
   "execution_count": null,
   "metadata": {
    "_uuid": "e4542846476fe95d834116a920526a047423d661"
   },
   "outputs": [],
   "source": [
    "y= data_regression['Sales']\n",
    "dataX= data_regression.drop(['Sales'],axis=1)\n",
    "X_train, X_test, y_train, y_test = train_test_split(dataX,Y, test_size=0.2, random_state=0) "
   ]
  },
  {
   "cell_type": "markdown",
   "metadata": {
    "_uuid": "96b36a36768522739eef6716f6dad017deb52540"
   },
   "source": [
    "## Random Forest"
   ]
  },
  {
   "cell_type": "code",
   "execution_count": null,
   "metadata": {
    "_uuid": "075b30a1fabd296dc9992bcc8d797fe17d172449"
   },
   "outputs": [],
   "source": [
    "from sklearn.ensemble import RandomForestRegressor  \n",
    "modelRegrRF = RandomForestRegressor()  \n",
    "modelRegrRF.fit(X_train, y_train)  "
   ]
  },
  {
   "cell_type": "code",
   "execution_count": null,
   "metadata": {
    "_uuid": "c3f5ca09c6ee49f39728f6b79841a16ddea22a21"
   },
   "outputs": [],
   "source": [
    "y_pred = modelRegrRF.predict(X_test) "
   ]
  },
  {
   "cell_type": "code",
   "execution_count": null,
   "metadata": {
    "_uuid": "76af54596cfc71d2a48ddf565132f1f53af0fa83"
   },
   "outputs": [],
   "source": [
    "regessionEvaluation(y_test,y_pred)"
   ]
  },
  {
   "cell_type": "markdown",
   "metadata": {
    "_uuid": "e519b4f9b3bce13d737b031b4bc6834c819ef050"
   },
   "source": [
    "### Hyper parameter tuning of Random forest regressor"
   ]
  },
  {
   "cell_type": "code",
   "execution_count": null,
   "metadata": {
    "_uuid": "8a5f5d14b4ac8dc719079b4b42e8e592d7ed7c79"
   },
   "outputs": [],
   "source": [
    "#Let us see what default parameters our model used\n",
    "print('Parameters currently in use:\\n')\n",
    "pprint(modelRegrRF.get_params())"
   ]
  },
  {
   "cell_type": "code",
   "execution_count": null,
   "metadata": {
    "_uuid": "720d134a0917a2bc43fa684f9e9ee982022b2eba"
   },
   "outputs": [],
   "source": [
    "from sklearn.model_selection import GridSearchCV\n",
    "param_grid = {\n",
    "    'bootstrap': [True],\n",
    "    'max_depth': [80, 90],\n",
    "    'max_features': [2, 3],\n",
    "    'min_samples_leaf': [3, 4],\n",
    "    'min_samples_split': [8, 10],\n",
    "    'n_estimators': [100, 200]\n",
    "}\n",
    "# Create a based model\n",
    "randomRegressor = RandomForestRegressor()\n",
    "# Instantiate the grid search model\n",
    "grid_search = GridSearchCV(estimator = randomRegressor, param_grid = param_grid, \n",
    "                          cv = 3, n_jobs = -1, verbose = 2)\n"
   ]
  },
  {
   "cell_type": "code",
   "execution_count": null,
   "metadata": {
    "_uuid": "834fc0df4527c669bfa118f0ca7773cb99f83747"
   },
   "outputs": [],
   "source": [
    "# Fit the grid search to the data\n",
    "grid_search.fit(X_train, y_train)"
   ]
  },
  {
   "cell_type": "code",
   "execution_count": null,
   "metadata": {
    "_uuid": "58341fb0087abe0e35619be99c5104462a2b0539"
   },
   "outputs": [],
   "source": [
    "#grid_search.best_params_"
   ]
  },
  {
   "cell_type": "code",
   "execution_count": null,
   "metadata": {
    "_uuid": "9c243c1122d9c9da55955d0f83f045e654376516"
   },
   "outputs": [],
   "source": [
    "randomForestOptimized=RandomForestRegressor(n_estimators=200,max_depth=100, min_samples_split=10, min_samples_leaf=4, max_features=5,bootstrap=True)"
   ]
  },
  {
   "cell_type": "code",
   "execution_count": null,
   "metadata": {
    "_uuid": "5dd99c1ce917646362dcdc23874247a3a1cd08c0"
   },
   "outputs": [],
   "source": [
    "randomForestOptimized.fit(X_train,y_train)\n",
    "y_pred = randomForestOptimized.predict(X_test)"
   ]
  },
  {
   "cell_type": "code",
   "execution_count": null,
   "metadata": {
    "_uuid": "d07662ee86b9c1473fa12df16a8a1c3dc39ec787"
   },
   "outputs": [],
   "source": [
    "regessionEvaluation(y_test,y_pred)"
   ]
  },
  {
   "cell_type": "markdown",
   "metadata": {
    "_uuid": "f9eb9fe293971259b8124bfafd0db9eea7e37e02"
   },
   "source": [
    "## Boosting"
   ]
  },
  {
   "cell_type": "markdown",
   "metadata": {
    "_uuid": "deeec67cdc88a3f13afe09793ed351d6577e3d5e"
   },
   "source": [
    "### XGBoosting"
   ]
  },
  {
   "cell_type": "code",
   "execution_count": null,
   "metadata": {
    "_uuid": "3102e73a5b050d7210e7579216cee6893995ee0d"
   },
   "outputs": [],
   "source": [
    "from xgboost import XGBRegressor"
   ]
  },
  {
   "cell_type": "code",
   "execution_count": null,
   "metadata": {
    "_uuid": "2cfb4dee76e66fff250ef27565c2ce650dee56c6"
   },
   "outputs": [],
   "source": [
    "xgBoostRegressor = XGBRegressor()\n",
    "xgBoostRegressor.fit(X_train, y_train)"
   ]
  },
  {
   "cell_type": "code",
   "execution_count": null,
   "metadata": {
    "_uuid": "455820a7dcc1fd96a0e1143243b0bb1723ca2231"
   },
   "outputs": [],
   "source": [
    "y_pred = xgBoostRegressor.predict(X_test) \n",
    "regessionEvaluation(y_test,y_pred)"
   ]
  },
  {
   "cell_type": "code",
   "execution_count": null,
   "metadata": {
    "_uuid": "066bcb4e029d2ab461d421913c8a8812284ccef6"
   },
   "outputs": [],
   "source": [
    "learning_rates = [0.5, 0.75, 1]\n",
    "n_estimators=[20,30,40]\n",
    "max_depths=[2,3,4]\n",
    "max_features=[2,3,4]\n",
    "for i in range(3):\n",
    "    xgb = XGBRegressor(n_estimators=n_estimators[i], learning_rate = learning_rates[i], max_features=max_features[i], max_depth = max_depths[i], random_state = 0)\n",
    "    xgb.fit(X_train, y_train)\n",
    "    print(\"Accuracy score (training): {0:.3f}\".format(xgb.score(X_train, y_train)))\n",
    "    print(\"Accuracy score (validation): {0:.3f}\".format(xgb.score(X_test, y_test)))\n",
    "    print()"
   ]
  },
  {
   "cell_type": "code",
   "execution_count": null,
   "metadata": {
    "_uuid": "421154e0e49960bb8d70cf95a8e81bb017ec69a2"
   },
   "outputs": [],
   "source": [
    "#So best is \n",
    "#learning_rates = 1\n",
    "#n_estimators=40\n",
    "#max_depths=4\n",
    "#max_features=4\n",
    "xgbRegressor_optimized = XGBRegressor(n_estimators=40, learning_rate = 1, max_features=4, max_depth = 4, random_state = 0)\n",
    "xgbRegressor_optimized.fit(X_train,y_train)"
   ]
  },
  {
   "cell_type": "code",
   "execution_count": null,
   "metadata": {
    "_uuid": "1e8e1c49bb6ce0bbf3e7fe2429a48610592fe532"
   },
   "outputs": [],
   "source": [
    "y_pred = xgbRegressor_optimized.predict(X_test) \n",
    "regessionEvaluation(y_test,y_pred)"
   ]
  },
  {
   "cell_type": "markdown",
   "metadata": {
    "_uuid": "f9e42e10b3b8b8836f814c93e0fde79d567a7999"
   },
   "source": [
    "    # Comparison of Different Regression Models"
   ]
  },
  {
   "cell_type": "markdown",
   "metadata": {
    "_uuid": "259a640520b52b1810fee33ee1b3d571d559b08b"
   },
   "source": [
    "Algorithms with there metrics value:\n",
    "\n",
    "**Linear Regression**\n",
    "    - Cross Validation Error: 1.242288014816511\n",
    "\n",
    "**Random Forest**\n",
    "    - Mean Absolute Error: 405.7327874520134\n",
    "    - Mean Squared Error: 435275.179031254\n",
    "    - Root Mean Squared Error: 659.7538776174446\n",
    "\n",
    "**Boosting:**\n",
    "    - Mean Absolute Error: 597.3932168285128\n",
    "    - Mean Squared Error: 715220.9126263337\n",
    "    - Root Mean Squared Error: 845.7073445503082\n",
    "   \n",
    " "
   ]
  },
  {
   "cell_type": "code",
   "execution_count": null,
   "metadata": {
    "_uuid": "25aeb477bf09bd46378ceb0e7a6d55736e98a27f"
   },
   "outputs": [],
   "source": []
  }
 ],
 "metadata": {
  "kernelspec": {
   "display_name": "Python 3",
   "language": "python",
   "name": "python3"
  },
  "language_info": {
   "codemirror_mode": {
    "name": "ipython",
    "version": 3
   },
   "file_extension": ".py",
   "mimetype": "text/x-python",
   "name": "python",
   "nbconvert_exporter": "python",
   "pygments_lexer": "ipython3",
   "version": "3.6.5"
  }
 },
 "nbformat": 4,
 "nbformat_minor": 1
}
